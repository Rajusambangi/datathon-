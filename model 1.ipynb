{
 "cells": [
  {
   "cell_type": "code",
   "execution_count": 1,
   "id": "35ec4cdc",
   "metadata": {},
   "outputs": [],
   "source": [
    "import numpy as np\n",
    "import pandas as pd"
   ]
  },
  {
   "cell_type": "code",
   "execution_count": 2,
   "id": "3d94b7f8",
   "metadata": {
    "scrolled": true
   },
   "outputs": [
    {
     "data": {
      "text/plain": [
       "url      0\n",
       "state    0\n",
       "dtype: int64"
      ]
     },
     "execution_count": 2,
     "metadata": {},
     "output_type": "execute_result"
    }
   ],
   "source": [
    "headers=['url','state']\n",
    "df=pd.read_csv('datathon_train.csv',names=headers)\n",
    "df.isnull().sum()"
   ]
  },
  {
   "cell_type": "code",
   "execution_count": 3,
   "id": "7e03188c",
   "metadata": {
    "scrolled": false
   },
   "outputs": [
    {
     "data": {
      "text/html": [
       "<div>\n",
       "<style scoped>\n",
       "    .dataframe tbody tr th:only-of-type {\n",
       "        vertical-align: middle;\n",
       "    }\n",
       "\n",
       "    .dataframe tbody tr th {\n",
       "        vertical-align: top;\n",
       "    }\n",
       "\n",
       "    .dataframe thead th {\n",
       "        text-align: right;\n",
       "    }\n",
       "</style>\n",
       "<table border=\"1\" class=\"dataframe\">\n",
       "  <thead>\n",
       "    <tr style=\"text-align: right;\">\n",
       "      <th></th>\n",
       "      <th>url</th>\n",
       "      <th>state</th>\n",
       "    </tr>\n",
       "  </thead>\n",
       "  <tbody>\n",
       "    <tr>\n",
       "      <th>0</th>\n",
       "      <td>https www peoplescollection wales discover wha...</td>\n",
       "      <td>0</td>\n",
       "    </tr>\n",
       "    <tr>\n",
       "      <th>1</th>\n",
       "      <td>http yasli sad ru css chase chaseall newinfo_a...</td>\n",
       "      <td>1</td>\n",
       "    </tr>\n",
       "    <tr>\n",
       "      <th>2</th>\n",
       "      <td>http denizkent net wp admin js login alibaba com</td>\n",
       "      <td>1</td>\n",
       "    </tr>\n",
       "    <tr>\n",
       "      <th>3</th>\n",
       "      <td>http www marketbiz net mbz wp includes js jque...</td>\n",
       "      <td>1</td>\n",
       "    </tr>\n",
       "    <tr>\n",
       "      <th>4</th>\n",
       "      <td>http guardiaoitau30horas uniclassdispositivos ...</td>\n",
       "      <td>1</td>\n",
       "    </tr>\n",
       "  </tbody>\n",
       "</table>\n",
       "</div>"
      ],
      "text/plain": [
       "                                                 url  state\n",
       "0  https www peoplescollection wales discover wha...      0\n",
       "1  http yasli sad ru css chase chaseall newinfo_a...      1\n",
       "2   http denizkent net wp admin js login alibaba com      1\n",
       "3  http www marketbiz net mbz wp includes js jque...      1\n",
       "4  http guardiaoitau30horas uniclassdispositivos ...      1"
      ]
     },
     "execution_count": 3,
     "metadata": {},
     "output_type": "execute_result"
    }
   ],
   "source": [
    "df['url']=df['url'].apply(lambda x:x.replace(\"://\",\" \"))\n",
    "df['url']=df['url'].apply(lambda x:x.replace(\"/\",\" \"))\n",
    "df['url']=df['url'].apply(lambda x:x.replace(\".\",\" \"))\n",
    "df['url']=df['url'].apply(lambda x:x.replace(\"-\",\" \"))\n",
    "df['url']=df['url'].apply(lambda x:x.replace(\"%20\",\" \"))\n",
    "df.head()"
   ]
  },
  {
   "cell_type": "code",
   "execution_count": 4,
   "id": "25f540fc",
   "metadata": {},
   "outputs": [
    {
     "data": {
      "text/plain": [
       "(100860, 170198)"
      ]
     },
     "execution_count": 4,
     "metadata": {},
     "output_type": "execute_result"
    }
   ],
   "source": [
    "from sklearn.feature_extraction.text import CountVectorizer\n",
    "v=CountVectorizer()\n",
    "vec=v.fit_transform(df['url'])\n",
    "vec.shape"
   ]
  },
  {
   "cell_type": "code",
   "execution_count": 5,
   "id": "9ad8939a",
   "metadata": {},
   "outputs": [
    {
     "data": {
      "text/plain": [
       "0         0\n",
       "1         1\n",
       "2         1\n",
       "3         1\n",
       "4         1\n",
       "         ..\n",
       "100855    1\n",
       "100856    1\n",
       "100857    0\n",
       "100858    0\n",
       "100859    1\n",
       "Name: state, Length: 100860, dtype: int64"
      ]
     },
     "execution_count": 5,
     "metadata": {},
     "output_type": "execute_result"
    }
   ],
   "source": [
    "y=df['state']\n",
    "y"
   ]
  },
  {
   "cell_type": "code",
   "execution_count": 6,
   "id": "fafa77b9",
   "metadata": {},
   "outputs": [],
   "source": [
    "from sklearn.model_selection import train_test_split\n",
    "from sklearn import linear_model\n",
    "from sklearn.linear_model import LogisticRegression"
   ]
  },
  {
   "cell_type": "code",
   "execution_count": 7,
   "id": "bde40912",
   "metadata": {},
   "outputs": [],
   "source": [
    "x_train,x_test,y_train,y_test=train_test_split(vec,y,test_size=0.0002,random_state=300)\n",
    "reg=linear_model.LogisticRegression()"
   ]
  },
  {
   "cell_type": "code",
   "execution_count": 8,
   "id": "0c6106df",
   "metadata": {},
   "outputs": [
    {
     "name": "stderr",
     "output_type": "stream",
     "text": [
      "C:\\Users\\samba\\AppData\\Local\\Programs\\Python\\Python310\\lib\\site-packages\\sklearn\\linear_model\\_logistic.py:814: ConvergenceWarning: lbfgs failed to converge (status=1):\n",
      "STOP: TOTAL NO. of ITERATIONS REACHED LIMIT.\n",
      "\n",
      "Increase the number of iterations (max_iter) or scale the data as shown in:\n",
      "    https://scikit-learn.org/stable/modules/preprocessing.html\n",
      "Please also refer to the documentation for alternative solver options:\n",
      "    https://scikit-learn.org/stable/modules/linear_model.html#logistic-regression\n",
      "  n_iter_i = _check_optimize_result(\n"
     ]
    },
    {
     "data": {
      "text/plain": [
       "LogisticRegression()"
      ]
     },
     "execution_count": 8,
     "metadata": {},
     "output_type": "execute_result"
    }
   ],
   "source": [
    "reg.fit(x_train,y_train)"
   ]
  },
  {
   "cell_type": "code",
   "execution_count": 9,
   "id": "d89a6fb7",
   "metadata": {},
   "outputs": [
    {
     "name": "stdout",
     "output_type": "stream",
     "text": [
      "[1 0 0 0 1 0 0 0 0 0 0 1 0 0 1 0 0 0 1 1 1]\n"
     ]
    }
   ],
   "source": [
    "y_pred=reg.predict(x_test)\n",
    "print(y_pred)"
   ]
  },
  {
   "cell_type": "code",
   "execution_count": 10,
   "id": "3ef9577e",
   "metadata": {},
   "outputs": [
    {
     "data": {
      "text/plain": [
       "<100860x170198 sparse matrix of type '<class 'numpy.int64'>'\n",
       "\twith 749492 stored elements in Compressed Sparse Row format>"
      ]
     },
     "execution_count": 10,
     "metadata": {},
     "output_type": "execute_result"
    }
   ],
   "source": [
    "vec"
   ]
  },
  {
   "cell_type": "code",
   "execution_count": 11,
   "id": "7284df86",
   "metadata": {},
   "outputs": [
    {
     "name": "stdout",
     "output_type": "stream",
     "text": [
      "  (0, 83738)\t1\n",
      "  (0, 166376)\t1\n",
      "  (0, 121702)\t1\n",
      "  (0, 162979)\t1\n",
      "  (0, 59493)\t1\n",
      "  (0, 164575)\t1\n",
      "  (0, 20791)\t1\n",
      "  (0, 129399)\t1\n",
      "  (0, 105616)\t1\n",
      "  (1, 83730)\t1\n",
      "  (1, 167587)\t1\n",
      "  (1, 135712)\t1\n",
      "  (1, 134870)\t1\n",
      "  (1, 54561)\t1\n",
      "  (1, 48436)\t1\n",
      "  (1, 48441)\t1\n",
      "  (1, 112856)\t1\n",
      "  (1, 159343)\t1\n",
      "  (1, 145735)\t1\n",
      "  (1, 122768)\t1\n",
      "  (1, 131365)\t1\n",
      "  (2, 83730)\t1\n",
      "  (2, 57748)\t1\n",
      "  (2, 112463)\t1\n",
      "  (2, 165991)\t1\n",
      "  :\t:\n",
      "  (100857, 76441)\t1\n",
      "  (100857, 54894)\t1\n",
      "  (100857, 140385)\t1\n",
      "  (100857, 158521)\t1\n",
      "  (100857, 142448)\t1\n",
      "  (100857, 126095)\t1\n",
      "  (100857, 5978)\t1\n",
      "  (100857, 24030)\t1\n",
      "  (100858, 166376)\t1\n",
      "  (100858, 83730)\t1\n",
      "  (100858, 140794)\t1\n",
      "  (100858, 141993)\t1\n",
      "  (100858, 114744)\t1\n",
      "  (100859, 166376)\t2\n",
      "  (100859, 83730)\t1\n",
      "  (100859, 122768)\t1\n",
      "  (100859, 100187)\t1\n",
      "  (100859, 29892)\t3\n",
      "  (100859, 51533)\t5\n",
      "  (100859, 135916)\t1\n",
      "  (100859, 65074)\t1\n",
      "  (100859, 26738)\t1\n",
      "  (100859, 100213)\t2\n",
      "  (100859, 167220)\t1\n",
      "  (100859, 70352)\t1\n"
     ]
    }
   ],
   "source": [
    "print(vec)"
   ]
  },
  {
   "cell_type": "code",
   "execution_count": 12,
   "id": "60370dba",
   "metadata": {},
   "outputs": [
    {
     "name": "stdout",
     "output_type": "stream",
     "text": [
      "accuracy 0.9523809523809523\n"
     ]
    }
   ],
   "source": [
    "\n",
    "from sklearn.metrics import accuracy_score \n",
    "print(\"accuracy\",accuracy_score(y_test,y_pred))"
   ]
  },
  {
   "cell_type": "code",
   "execution_count": 13,
   "id": "e0cc9d01",
   "metadata": {},
   "outputs": [
    {
     "data": {
      "text/plain": [
       "Ridge()"
      ]
     },
     "execution_count": 13,
     "metadata": {},
     "output_type": "execute_result"
    }
   ],
   "source": [
    "from sklearn.linear_model import Ridge\n",
    "import numpy as np\n",
    "n_samples, n_features = 506, 13\n",
    "rng = np.random.RandomState(0)\n",
    "y = rng.randn(n_samples)\n",
    "X = rng.randn(n_samples, n_features)\n",
    "clf = Ridge(alpha=1.0)\n",
    "clf.fit(x_test,y_test)\n",
    "Ridge()"
   ]
  },
  {
   "cell_type": "code",
   "execution_count": 14,
   "id": "f88de0a1",
   "metadata": {},
   "outputs": [
    {
     "name": "stdout",
     "output_type": "stream",
     "text": [
      "[0.93032376 0.06661372 0.04330992 0.01971191 0.86913075 0.00865728\n",
      " 0.02342776 0.00855984 0.02095871 0.05495709 0.04150052 0.96828744\n",
      " 0.02342776 0.01547107 0.90113479 0.05143167 0.02095871 0.02095871\n",
      " 0.93454574 0.02728435 0.94934851]\n"
     ]
    }
   ],
   "source": [
    "y_pred1=clf.predict(x_test)\n",
    "print(y_pred1)"
   ]
  },
  {
   "cell_type": "code",
   "execution_count": 15,
   "id": "e7c1fed3",
   "metadata": {},
   "outputs": [
    {
     "name": "stdout",
     "output_type": "stream",
     "text": [
      "0.9866420383128773\n"
     ]
    }
   ],
   "source": [
    "from sklearn.metrics import r2_score\n",
    "print(r2_score(y_test,y_pred1))"
   ]
  },
  {
   "cell_type": "code",
   "execution_count": null,
   "id": "9d4dd313",
   "metadata": {},
   "outputs": [],
   "source": []
  },
  {
   "cell_type": "code",
   "execution_count": 16,
   "id": "edd48570",
   "metadata": {},
   "outputs": [
    {
     "data": {
      "text/plain": [
       "web    0\n",
       "dtype: int64"
      ]
     },
     "execution_count": 16,
     "metadata": {},
     "output_type": "execute_result"
    }
   ],
   "source": [
    "headers=['web']\n",
    "df1=pd.read_csv('testing_data.csv',names=headers)\n",
    "df1.isnull().sum()"
   ]
  },
  {
   "cell_type": "code",
   "execution_count": 17,
   "id": "b64bdd68",
   "metadata": {},
   "outputs": [
    {
     "data": {
      "text/plain": [
       "0                           http www skofija novomesto si \n",
       "1        http ferlafashion com saint www loginalibaba c...\n",
       "2                                   http spatrendonline hu\n",
       "3                                   http defensasur com ar\n",
       "4                         http www digitalvd de dvds 37399\n",
       "                               ...                        \n",
       "25214                                   http mohaseban org\n",
       "25215                              https www la croix com \n",
       "25216                                  http bit ly 2CbFTLv\n",
       "25217    http beautyatjessicas com au wp content upload...\n",
       "25218    http www la taverne des aventuriers com t4575 ...\n",
       "Name: web, Length: 25219, dtype: object"
      ]
     },
     "execution_count": 17,
     "metadata": {},
     "output_type": "execute_result"
    }
   ],
   "source": [
    "df1['web']=df1['web'].apply(lambda x:x.replace(\"://\",\" \"))\n",
    "df1['web']=df1['web'].apply(lambda x:x.replace(\"/\",\" \"))\n",
    "df1['web']=df1['web'].apply(lambda x:x.replace(\".\",\" \"))\n",
    "df1['web']=df1['web'].apply(lambda x:x.replace(\"-\",\" \"))\n",
    "df=df.apply(lambda x:x.replace(\"%20\",\" \"))\n",
    "df1['web']"
   ]
  },
  {
   "cell_type": "code",
   "execution_count": 18,
   "id": "fe72e9f5",
   "metadata": {},
   "outputs": [
    {
     "data": {
      "text/plain": [
       "(25219, 170198)"
      ]
     },
     "execution_count": 18,
     "metadata": {},
     "output_type": "execute_result"
    }
   ],
   "source": [
    "\n",
    "vec1=v.transform(df1['web'])\n",
    "vec1.shape"
   ]
  },
  {
   "cell_type": "code",
   "execution_count": 19,
   "id": "0b720fef",
   "metadata": {},
   "outputs": [],
   "source": [
    "y_pr=reg.predict(vec1)"
   ]
  },
  {
   "cell_type": "code",
   "execution_count": 20,
   "id": "b8a2e721",
   "metadata": {},
   "outputs": [
    {
     "name": "stdout",
     "output_type": "stream",
     "text": [
      "[0 1 0 ... 1 1 0]\n"
     ]
    }
   ],
   "source": [
    "print(y_pr)"
   ]
  },
  {
   "cell_type": "code",
   "execution_count": 21,
   "id": "010848c1",
   "metadata": {},
   "outputs": [],
   "source": [
    "final_df=pd.DataFrame()"
   ]
  },
  {
   "cell_type": "code",
   "execution_count": 22,
   "id": "f27fd2d8",
   "metadata": {},
   "outputs": [],
   "source": [
    "final_df['a']=y_pr\n"
   ]
  },
  {
   "cell_type": "code",
   "execution_count": 23,
   "id": "0ba47008",
   "metadata": {},
   "outputs": [],
   "source": [
    "final_df.to_csv(r'C:\\Users\\samba\\OneDrive\\Desktop\\datathon 2.o\\results6.csv',index=False)"
   ]
  },
  {
   "cell_type": "code",
   "execution_count": 24,
   "id": "0c0a68da",
   "metadata": {},
   "outputs": [],
   "source": [
    "y_pr1=clf.predict(vec1)"
   ]
  },
  {
   "cell_type": "code",
   "execution_count": 25,
   "id": "c5450453",
   "metadata": {},
   "outputs": [
    {
     "name": "stdout",
     "output_type": "stream",
     "text": [
      "[0.00781713 0.14505362 0.16546486 ... 0.16546486 0.31453863 0.04189681]\n"
     ]
    }
   ],
   "source": [
    "print(y_pr1)"
   ]
  },
  {
   "cell_type": "code",
   "execution_count": 26,
   "id": "32ffb36e",
   "metadata": {},
   "outputs": [],
   "source": [
    "final_df1=pd.DataFrame()\n",
    "final_df1['a']=y_pr1\n",
    "final_df1.to_csv(r'C:\\Users\\samba\\OneDrive\\Desktop\\datathon 2.o\\results1.csv',index=False)"
   ]
  },
  {
   "cell_type": "code",
   "execution_count": 27,
   "id": "8eac029f",
   "metadata": {},
   "outputs": [],
   "source": [
    "from sklearn import linear_model\n",
    "lasso = linear_model.Lasso()\n",
    "lasso.fit(x_test, y_test)\n",
    "\n",
    "y_pr2= lasso.predict(vec1)"
   ]
  },
  {
   "cell_type": "code",
   "execution_count": 28,
   "id": "544ec3b0",
   "metadata": {},
   "outputs": [
    {
     "name": "stdout",
     "output_type": "stream",
     "text": [
      "[0.28571429 0.28571429 0.28571429 ... 0.28571429 0.28571429 0.28571429]\n"
     ]
    }
   ],
   "source": [
    "print(y_pr2)"
   ]
  },
  {
   "cell_type": "code",
   "execution_count": null,
   "id": "88d152b7",
   "metadata": {},
   "outputs": [],
   "source": []
  },
  {
   "cell_type": "code",
   "execution_count": null,
   "id": "6e93850d",
   "metadata": {},
   "outputs": [],
   "source": []
  },
  {
   "cell_type": "code",
   "execution_count": null,
   "id": "858dfb96",
   "metadata": {},
   "outputs": [],
   "source": []
  }
 ],
 "metadata": {
  "kernelspec": {
   "display_name": "Python 3 (ipykernel)",
   "language": "python",
   "name": "python3"
  },
  "language_info": {
   "codemirror_mode": {
    "name": "ipython",
    "version": 3
   },
   "file_extension": ".py",
   "mimetype": "text/x-python",
   "name": "python",
   "nbconvert_exporter": "python",
   "pygments_lexer": "ipython3",
   "version": "3.10.5"
  }
 },
 "nbformat": 4,
 "nbformat_minor": 5
}
